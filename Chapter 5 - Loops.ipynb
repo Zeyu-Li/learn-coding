{
 "cells": [
  {
   "cell_type": "markdown",
   "metadata": {},
   "source": [
    "# Chapter 5 - Loops"
   ]
  },
  {
   "cell_type": "markdown",
   "metadata": {},
   "source": [
    "A loop in terms of computing means to do something over and over again. Loops are one of those things that computers excel in. In Python, there are two ways to loop, a **While** loop and a **For** loop."
   ]
  },
  {
   "cell_type": "markdown",
   "metadata": {},
   "source": [
    "## While loops"
   ]
  },
  {
   "cell_type": "markdown",
   "metadata": {},
   "source": [
    "A while loop cycles as long as the while condition is true. For example,\n",
    "\n",
    "```python\n",
    "while True:\n",
    "    print(\"Looping\")\n",
    "```\n",
    "\n",
    "will never stop running because it will always be true. Once the condition is no longer true, the loop stops and goes to the next code block after the while block. \n",
    "\n",
    "If we want to prematurely exit a loop, we use the **break** keyword."
   ]
  },
  {
   "cell_type": "code",
   "execution_count": null,
   "metadata": {},
   "outputs": [],
   "source": [
    "while True:\n",
    "    print(\"Looping\")\n",
    "    break"
   ]
  },
  {
   "cell_type": "markdown",
   "metadata": {},
   "source": [
    "We can see that in the first time the code loops, there is a break so it exits as soon as it gets to the break. If we want to loop again without going through the rest of the looping code block, we use keyword **continue**"
   ]
  },
  {
   "cell_type": "code",
   "execution_count": null,
   "metadata": {},
   "outputs": [],
   "source": [
    "# init\n",
    "condition = 0\n",
    "\n",
    "# loop\n",
    "while condition != 5:\n",
    "    print(\"Looping\", condition)\n",
    "\n",
    "    # making it odd\n",
    "    if condition % 2 == 0:\n",
    "        condition -= 1\n",
    "        # anything after this continue will not be used\n",
    "        print(\"Now odd...\")\n",
    "        continue\n",
    "        print(\"hello\")\n",
    "        \n",
    "    condition += 2"
   ]
  },
  {
   "cell_type": "markdown",
   "metadata": {},
   "source": [
    "## For loops"
   ]
  },
  {
   "cell_type": "markdown",
   "metadata": {},
   "source": [
    "For loops are a power tool to loop through containers such as lists, sets, dictionaries, strings, and more"
   ]
  },
  {
   "cell_type": "markdown",
   "metadata": {},
   "source": [
    "Here are some examples:"
   ]
  },
  {
   "cell_type": "code",
   "execution_count": null,
   "metadata": {},
   "outputs": [],
   "source": [
    "numbers = [1, 5, 8, 30, 42, 1023]\n",
    "total = 0\n",
    "\n",
    "# for loop adds all the numbers and prints them out individually\n",
    "for number in numbers:\n",
    "    print(number)\n",
    "    total += number\n",
    "    \n",
    "print(\"Total:\", total)"
   ]
  },
  {
   "cell_type": "code",
   "execution_count": null,
   "metadata": {},
   "outputs": [],
   "source": [
    "word = \"mississippi\"\n",
    "\n",
    "for character in word:\n",
    "    print(character)"
   ]
  },
  {
   "cell_type": "markdown",
   "metadata": {},
   "source": [
    "Another way this is useful is the use of range based for loops. That means it will go through a range of numbers (ie. you  can specify how many times it can loop)"
   ]
  },
  {
   "cell_type": "code",
   "execution_count": null,
   "metadata": {},
   "outputs": [],
   "source": [
    "for i in range(5):\n",
    "    print(i)"
   ]
  },
  {
   "cell_type": "markdown",
   "metadata": {},
   "source": [
    "If we want to go through a list and get the index value, we can use the **enumerate()** method"
   ]
  },
  {
   "cell_type": "code",
   "execution_count": null,
   "metadata": {},
   "outputs": [],
   "source": [
    "for index, number in enumerate(numbers):\n",
    "    print(f\"The {index} number is {number}\")"
   ]
  },
  {
   "cell_type": "markdown",
   "metadata": {},
   "source": [
    "For loops can also be handy with dictionaries. Since dictionaries have key-value pairs, we can loop through both at the same time, we can use the **items()** method"
   ]
  },
  {
   "cell_type": "code",
   "execution_count": null,
   "metadata": {},
   "outputs": [],
   "source": [
    "pets = {\n",
    "    \"cat\": 1,\n",
    "    \"dog\": 3,\n",
    "    \"fish\": 9\n",
    "}\n",
    "\n",
    "for animal, value in pets.items():\n",
    "    if value != 1:\n",
    "        animal += \"s\"\n",
    "    print(\"We have\", value, animal)"
   ]
  },
  {
   "cell_type": "markdown",
   "metadata": {},
   "source": [
    "## Extra"
   ]
  },
  {
   "cell_type": "markdown",
   "metadata": {},
   "source": [
    "You may have seen the **in** keyword being used in the For loop section. You may assume that the keyword **in** only acts as a way to traverse through a list, but in can also be used to find if an item is in a list. For example;"
   ]
  },
  {
   "cell_type": "code",
   "execution_count": null,
   "metadata": {},
   "outputs": [],
   "source": [
    "numbers = [1, 3, 4, 6, 8]\n",
    "\n",
    "is_in_1 = 1 in numbers\n",
    "is_in_9 = 9 in numbers\n",
    "\n",
    "print(is_in_1, \"1 is in the numbers list\")\n",
    "print(is_in_9, \"9 is in the numbers list\")"
   ]
  },
  {
   "cell_type": "markdown",
   "metadata": {},
   "source": [
    "# Exercise 5"
   ]
  },
  {
   "cell_type": "markdown",
   "metadata": {},
   "source": [
    "Ask the user for 2 words and using a for loop, reverse it and print it"
   ]
  },
  {
   "cell_type": "code",
   "execution_count": null,
   "metadata": {},
   "outputs": [],
   "source": [
    "# write your code below\n"
   ]
  },
  {
   "cell_type": "markdown",
   "metadata": {},
   "source": [
    "## Chapter 4 Answer:"
   ]
  },
  {
   "cell_type": "code",
   "execution_count": null,
   "metadata": {},
   "outputs": [],
   "source": [
    "# first word\n",
    "first_word = input(\"First word: \")\n",
    "first_description = input(\"Word description: \")\n",
    "\n",
    "# second word\n",
    "second_word = input(\"Second word: \")\n",
    "second_description = input(\"Word description: \")\n",
    "\n",
    "# inits word dictionary\n",
    "word_dict = {}\n",
    "\n",
    "# adds word and description to dictionary\n",
    "word_dict[first_word] = first_description\n",
    "word_dict[second_word] = second_description\n",
    "\n",
    "# prints dictionary\n",
    "print(word_dict)"
   ]
  }
 ],
 "metadata": {
  "kernelspec": {
   "display_name": "Python 3",
   "language": "python",
   "name": "python3"
  },
  "language_info": {
   "codemirror_mode": {
    "name": "ipython",
    "version": 3
   },
   "file_extension": ".py",
   "mimetype": "text/x-python",
   "name": "python",
   "nbconvert_exporter": "python",
   "pygments_lexer": "ipython3",
   "version": "3.8.2"
  },
  "latex_envs": {
   "LaTeX_envs_menu_present": true,
   "autoclose": true,
   "autocomplete": true,
   "bibliofile": "biblio.bib",
   "cite_by": "apalike",
   "current_citInitial": 1,
   "eqLabelWithNumbers": true,
   "eqNumInitial": 1,
   "hotkeys": {
    "equation": "Ctrl-E",
    "itemize": "Ctrl-I"
   },
   "labels_anchors": false,
   "latex_user_defs": false,
   "report_style_numbering": false,
   "user_envs_cfg": false
  }
 },
 "nbformat": 4,
 "nbformat_minor": 4
}
