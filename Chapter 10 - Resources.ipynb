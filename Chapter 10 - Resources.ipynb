{
 "cells": [
  {
   "cell_type": "markdown",
   "metadata": {},
   "source": [
    "# Chapter 10 - Resources"
   ]
  },
  {
   "cell_type": "markdown",
   "metadata": {},
   "source": [
    "The most valuable resource is Google. If you are unsure of anything, Google with have the answer for you in the first few search results. StackOverflow and w3schools will usually have answers for you. Another good source is YouTube tutorials or if you have a library card in your local area, you will most likely have a account with [Lynda.com](https://www.lynda.com/). Don't be afraid to use these, because they hold a lot of valuable information.\n",
    "\n",
    "<br>\n",
    "Installing Python: https://www.python.org/downloads/ (make sure to add to PATH in Windows)\n",
    "\n",
    "VS Code: https://code.visualstudio.com/ (to get Python running, make sure you have the Python extension downloaded and enabled)\n",
    "\n",
    "Virtual Env: https://docs.python.org/3/library/venv.html\n",
    "\n",
    "Django: https://www.djangoproject.com/start/\n",
    "\n",
    "Flask: https://flask.palletsprojects.com/en/1.1.x/\n"
   ]
  }
 ],
 "metadata": {
  "kernelspec": {
   "display_name": "Python 3",
   "language": "python",
   "name": "python3"
  },
  "language_info": {
   "codemirror_mode": {
    "name": "ipython",
    "version": 3
   },
   "file_extension": ".py",
   "mimetype": "text/x-python",
   "name": "python",
   "nbconvert_exporter": "python",
   "pygments_lexer": "ipython3",
   "version": "3.8.2"
  },
  "latex_envs": {
   "LaTeX_envs_menu_present": true,
   "autoclose": true,
   "autocomplete": true,
   "bibliofile": "biblio.bib",
   "cite_by": "apalike",
   "current_citInitial": 1,
   "eqLabelWithNumbers": true,
   "eqNumInitial": 1,
   "hotkeys": {
    "equation": "Ctrl-E",
    "itemize": "Ctrl-I"
   },
   "labels_anchors": false,
   "latex_user_defs": false,
   "report_style_numbering": false,
   "user_envs_cfg": false
  }
 },
 "nbformat": 4,
 "nbformat_minor": 4
}
