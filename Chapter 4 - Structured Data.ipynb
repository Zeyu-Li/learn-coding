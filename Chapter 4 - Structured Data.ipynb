{
 "cells": [
  {
   "cell_type": "markdown",
   "metadata": {},
   "source": [
    "# Chapter 3 - Structured Data"
   ]
  },
  {
   "cell_type": "markdown",
   "metadata": {},
   "source": [
    "## Arrays/Lists"
   ]
  },
  {
   "cell_type": "markdown",
   "metadata": {},
   "source": [
    "Arrays are like a list, they contain a collection of many different things. One example is a grocery list"
   ]
  },
  {
   "cell_type": "code",
   "execution_count": null,
   "metadata": {},
   "outputs": [],
   "source": [
    "groceries = [\"apple\", \"cat_food\", \"yogurt\", \"mango\"]"
   ]
  },
  {
   "cell_type": "markdown",
   "metadata": {},
   "source": [
    "Of course things in the list could be of different types, ie."
   ]
  },
  {
   "cell_type": "code",
   "execution_count": null,
   "metadata": {},
   "outputs": [],
   "source": [
    "some_list = [3, True, 'cat', 42.0, [2, 4]]"
   ]
  },
  {
   "cell_type": "markdown",
   "metadata": {},
   "source": [
    "As seen above, we can have lists inside of lists because a list is just a collection of objects bounded to the variable (some_list). On of the things we can do with lists are getting the element at some location in the list. It is important to note that computers start counting with 0, therefore,"
   ]
  },
  {
   "cell_type": "code",
   "execution_count": null,
   "metadata": {},
   "outputs": [],
   "source": [
    "print(some_list[0])"
   ]
  },
  {
   "cell_type": "markdown",
   "metadata": {},
   "source": [
    "As seen above, the 0th element is 3. We can say at index 0 in some list is the integer 3. Also you now know to to call a specific element in a list - with square brackets and the number of the element starting at 0. In addition, we can call items from the end of the list"
   ]
  },
  {
   "cell_type": "code",
   "execution_count": null,
   "metadata": {},
   "outputs": [],
   "source": [
    "print(some_list[-1])"
   ]
  },
  {
   "cell_type": "markdown",
   "metadata": {},
   "source": [
    "As you can see, the last element is the list [2, 4]. In addition, we can slice from the list. This means we find a subset of the list from the specified index to the next. "
   ]
  },
  {
   "cell_type": "code",
   "execution_count": null,
   "metadata": {},
   "outputs": [],
   "source": [
    "print(some_list[2:5])"
   ]
  },
  {
   "cell_type": "markdown",
   "metadata": {},
   "source": [
    "We can see that it starts at the first index and goes to the last index but **does not include the last index**. "
   ]
  },
  {
   "cell_type": "markdown",
   "metadata": {},
   "source": [
    "Another thing about lists is that we can manipulate it. This is quite easy because we can specify a index and change it to something new"
   ]
  },
  {
   "cell_type": "code",
   "execution_count": null,
   "metadata": {},
   "outputs": [],
   "source": [
    "some_list[0] = 9\n",
    "print(some_list)"
   ]
  },
  {
   "cell_type": "code",
   "execution_count": null,
   "metadata": {},
   "outputs": [],
   "source": [
    "If we want to add an element to the end, we use the append method like this"
   ]
  },
  {
   "cell_type": "code",
   "execution_count": null,
   "metadata": {},
   "outputs": [],
   "source": [
    "some_list.append(\"happy\")\n",
    "print(some_list)"
   ]
  },
  {
   "cell_type": "markdown",
   "metadata": {},
   "source": [
    "There are several other important methods like pop, index, insert, remove, count, and sort and you can learn more about them [here](https://www.w3schools.com/python/python_ref_list.asp), but most of these methods are self explanatory. "
   ]
  },
  {
   "cell_type": "markdown",
   "metadata": {},
   "source": [
    "## Tuple"
   ]
  },
  {
   "cell_type": "markdown",
   "metadata": {},
   "source": [
    "There is a special form of an list called a tuple. A tuple is a **immutable** list, meaning you cannot change the list (ie. adding, removing, or modifying). On of the only things you can do with them is appending two tuples together"
   ]
  },
  {
   "cell_type": "markdown",
   "metadata": {},
   "source": [
    "## Sets"
   ]
  },
  {
   "cell_type": "markdown",
   "metadata": {},
   "source": [
    "Set are like lists but there is one major difference, they are unstructured, therefore you cannot call by it's index. In addition, they **cannot have duplicates**. In addition, sets are **immutable**, meaning you cannot change an item once it is initialized, however, you can add, remove, or update the entire set. This makes sets a close resemblance to sets in pure math and it even has the methods to support it. From intercept, issubset, and many more found in [w3school](https://www.w3schools.com/python/python_sets.asp), sets can be quite important if used right. "
   ]
  },
  {
   "cell_type": "code",
   "execution_count": null,
   "metadata": {},
   "outputs": [],
   "source": [
    "some_set = {3, True, '3'}\n",
    "print(some_set)"
   ]
  },
  {
   "cell_type": "markdown",
   "metadata": {},
   "source": [
    "This is how you set up a set, but know that sets are unordered"
   ]
  },
  {
   "cell_type": "markdown",
   "metadata": {},
   "source": [
    "## Dictionaries"
   ]
  },
  {
   "cell_type": "markdown",
   "metadata": {},
   "source": [
    "Dictionaries are one of the most important tools to programmers. Dictionaries have elements that demonstrate a key-value pair. This means a key will give you access to the value. You can think of the key as the index. "
   ]
  },
  {
   "cell_type": "code",
   "execution_count": null,
   "metadata": {},
   "outputs": [],
   "source": [
    "pets = {\n",
    "    \"cat\": 1,\n",
    "    \"dog\": 2,\n",
    "    \"fish\": 5\n",
    "}\n",
    "\n",
    "print(pets)\n",
    "print(pets['cat'])"
   ]
  },
  {
   "cell_type": "markdown",
   "metadata": {},
   "source": [
    "Most of the methods to add and get the value are the same, but you can find out more in this [website](https://www.w3schools.com/python/python_dictionaries.asp)"
   ]
  },
  {
   "cell_type": "markdown",
   "metadata": {},
   "source": [
    "## Extra"
   ]
  },
  {
   "cell_type": "markdown",
   "metadata": {},
   "source": [
    "Another thing about functions that are important after learning lists is having a variable number of arguments passed in. In which case, we use **\\*args**, or if a dictionary (will learn about later) is passed in, we use **\\*\\*kwargs**. Otherwise, we can feed in separate items in and args with handle items with no keyword while kwargs handles those with keywords"
   ]
  },
  {
   "cell_type": "code",
   "execution_count": null,
   "metadata": {},
   "outputs": [],
   "source": [
    "def print_list(*args):\n",
    "    # prints out all items in tuple\n",
    "    print(args)\n",
    "\n",
    "def print_list_2(*args, **kwargs):\n",
    "    # prints out all items in tuple\n",
    "    print(args)\n",
    "    print(kwargs)\n",
    "\n",
    "evens = [2, 4, 6, 8, 10, 12]\n",
    "\n",
    "print_list(2, 4, 6, 8, 10, 12)\n",
    "print_list(*evens)\n",
    "\n",
    "print_list_2(2, 4, 6, 8, 10, x = 12, y = 14, z = 16)"
   ]
  },
  {
   "cell_type": "markdown",
   "metadata": {},
   "source": [
    "Note the \" **\\*** \" just makes the list or tuple separated items, therefore"
   ]
  },
  {
   "cell_type": "code",
   "execution_count": null,
   "metadata": {},
   "outputs": [],
   "source": [
    "def print_list(*args):\n",
    "    # prints out all items singularly\n",
    "    print(*args)\n",
    "    \n",
    "evens = [2, 4, 6, 8, 10, 12]\n",
    "print_list(*evens)"
   ]
  },
  {
   "cell_type": "markdown",
   "metadata": {},
   "source": [
    "# Exercise 4"
   ]
  },
  {
   "cell_type": "markdown",
   "metadata": {},
   "source": [
    "Ask the user to create a dictionary of words with the word linked to the meaning of that word. This dictionary should be 2 words long and repeat the dictionary after user finishes. "
   ]
  },
  {
   "cell_type": "code",
   "execution_count": null,
   "metadata": {},
   "outputs": [],
   "source": [
    "# write your code below\n"
   ]
  },
  {
   "cell_type": "markdown",
   "metadata": {},
   "source": [
    "## Chapter 3 Answer:"
   ]
  },
  {
   "cell_type": "code",
   "execution_count": null,
   "metadata": {},
   "outputs": [],
   "source": [
    "# inputs\n",
    "first_int = int(input(\"First integer: \"))\n",
    "operator = input(\"Operator (+, -, *, /): \").strip()\n",
    "second_int = int(input(\"Second integer: \"))\n",
    "\n",
    "# inits output as error such that if the output is not modified again, out error\n",
    "output = \"The operator is not recognized\"\n",
    "\n",
    "# chain of if statements\n",
    "# This is know as a switch statement in some other languages\n",
    "if operator == '+':\n",
    "    output = first_int + second_int\n",
    "elif operator == '-':\n",
    "    output = first_int - second_int\n",
    "elif operator == '*':\n",
    "    output = first_int * second_int\n",
    "elif operator == '/':\n",
    "    output = first_int / second_int\n",
    "\n",
    "# prints output\n",
    "print(f'{first_int} {operator} {second_int} = {output} ')\n",
    "    "
   ]
  },
  {
   "cell_type": "markdown",
   "metadata": {},
   "source": [
    "First we get the inputs from the users, next we set a base case for the output. If the user inputs the operator wrong, we can tell them. Next we do a chain of if statement chain to check which operator it is. Next we print the output"
   ]
  }
 ],
 "metadata": {
  "kernelspec": {
   "display_name": "Python 3",
   "language": "python",
   "name": "python3"
  },
  "language_info": {
   "codemirror_mode": {
    "name": "ipython",
    "version": 3
   },
   "file_extension": ".py",
   "mimetype": "text/x-python",
   "name": "python",
   "nbconvert_exporter": "python",
   "pygments_lexer": "ipython3",
   "version": "3.8.2"
  },
  "latex_envs": {
   "LaTeX_envs_menu_present": true,
   "autoclose": true,
   "autocomplete": true,
   "bibliofile": "biblio.bib",
   "cite_by": "apalike",
   "current_citInitial": 1,
   "eqLabelWithNumbers": true,
   "eqNumInitial": 1,
   "hotkeys": {
    "equation": "Ctrl-E",
    "itemize": "Ctrl-I"
   },
   "labels_anchors": false,
   "latex_user_defs": false,
   "report_style_numbering": false,
   "user_envs_cfg": false
  }
 },
 "nbformat": 4,
 "nbformat_minor": 4
}
