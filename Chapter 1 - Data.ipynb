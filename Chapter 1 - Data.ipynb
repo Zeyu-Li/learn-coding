{
 "cells": [
  {
   "cell_type": "markdown",
   "metadata": {},
   "source": [
    "# Data"
   ]
  },
  {
   "cell_type": "markdown",
   "metadata": {},
   "source": [
    "Data or information is anything that can be stored or commited to memory. Things such as:\n",
    " * dates\n",
    " * numbers\n",
    " * pitures\n",
    " * thoughts\n",
    " * words\n",
    " \n",
    "are all examples of data. In a programming language such as **[Python](https://www.python.org/)**, some of these things can be stored/saved to memory. "
   ]
  },
  {
   "cell_type": "markdown",
   "metadata": {},
   "source": [
    "## Variables"
   ]
  },
  {
   "cell_type": "markdown",
   "metadata": {},
   "source": [
    "To do this, we need to have something to save it to. These are called variables and they represent somewhere in memory that the information is sorted in. These variables can be any word, letter, or phrase but they have rules on what is possible (ie cannot start with a number, or there can be no spaces). \n",
    "\n",
    "Here are some examples:\n",
    " * foo\n",
    " * bar\n",
    " * some_number\n",
    " * number2\n",
    " \n",
    "Here I have followed the rules, but there are convensions that should be followed so other people (or maybe yourself in the future) can look back a duduce that the variables mean so to save headache and time. Some common rules that apply not only to Python programing, but to general programming languages are,\n",
    "\n",
    " * **descriptive variable names**\n",
    " * multiple word varibles being linked with \\'\\_\\' instead of spaces (ie some_number). In other languages such as JavaScript, you may find it the norm to use camelCasing, which you can learn more about [here](https://en.wikipedia.org/wiki/Camel_case)\n"
   ]
  },
  {
   "cell_type": "code",
   "execution_count": 9,
   "metadata": {},
   "outputs": [],
   "source": [
    "x = 2   # integer\n",
    "y = .1  # float\n",
    "z = \"s\" # string\n",
    "foo = True  # boolean"
   ]
  },
  {
   "cell_type": "markdown",
   "metadata": {},
   "source": [
    "Once a variable is stored in memory, it can be called back to see what is stored in the variable. To do this, call the variable again."
   ]
  },
  {
   "cell_type": "code",
   "execution_count": 10,
   "metadata": {
    "scrolled": true
   },
   "outputs": [
    {
     "data": {
      "text/plain": [
       "2"
      ]
     },
     "execution_count": 10,
     "metadata": {},
     "output_type": "execute_result"
    }
   ],
   "source": [
    "x"
   ]
  },
  {
   "cell_type": "code",
   "execution_count": 11,
   "metadata": {},
   "outputs": [
    {
     "data": {
      "text/plain": [
       "0.1"
      ]
     },
     "execution_count": 11,
     "metadata": {},
     "output_type": "execute_result"
    }
   ],
   "source": [
    "y"
   ]
  },
  {
   "cell_type": "code",
   "execution_count": 12,
   "metadata": {},
   "outputs": [
    {
     "data": {
      "text/plain": [
       "'s'"
      ]
     },
     "execution_count": 12,
     "metadata": {},
     "output_type": "execute_result"
    }
   ],
   "source": [
    "z"
   ]
  },
  {
   "cell_type": "markdown",
   "metadata": {},
   "source": [
    "In addition, we can see the type of a variable by calling the type() function"
   ]
  },
  {
   "cell_type": "code",
   "execution_count": 13,
   "metadata": {
    "scrolled": true
   },
   "outputs": [
    {
     "data": {
      "text/plain": [
       "int"
      ]
     },
     "execution_count": 13,
     "metadata": {},
     "output_type": "execute_result"
    }
   ],
   "source": [
    "type(x)"
   ]
  },
  {
   "cell_type": "code",
   "execution_count": 14,
   "metadata": {},
   "outputs": [
    {
     "data": {
      "text/plain": [
       "float"
      ]
     },
     "execution_count": 14,
     "metadata": {},
     "output_type": "execute_result"
    }
   ],
   "source": [
    "type(y)"
   ]
  },
  {
   "cell_type": "code",
   "execution_count": 15,
   "metadata": {},
   "outputs": [
    {
     "data": {
      "text/plain": [
       "str"
      ]
     },
     "execution_count": 15,
     "metadata": {},
     "output_type": "execute_result"
    }
   ],
   "source": [
    "type(z)"
   ]
  },
  {
   "cell_type": "markdown",
   "metadata": {},
   "source": [
    "Sometimes, we may need to switch types (ie string to int) and this is done by calling the typeName() function, ie\n",
    "\n",
    "```python\n",
    "int()   # integer\n",
    "str()   # string\n",
    "float() # float (ie decimal)\n",
    "bool()  # boolean\n",
    "```\n",
    "\n",
    "However, Python is very kind so usually, type conversions are assummed and done by Python. Other times this may cause an error, so be careful"
   ]
  },
  {
   "cell_type": "markdown",
   "metadata": {},
   "source": [
    "In practice, unless you do this in a shell or console, you will need to print the output to the console from your script. In Python, it is done with a simple print() function (I will go in more detail about functions in a later chapter). "
   ]
  },
  {
   "cell_type": "code",
   "execution_count": 16,
   "metadata": {},
   "outputs": [
    {
     "name": "stdout",
     "output_type": "stream",
     "text": [
      "2\n"
     ]
    }
   ],
   "source": [
    "print(x)"
   ]
  },
  {
   "cell_type": "markdown",
   "metadata": {},
   "source": [
    "Now that we have established that data can be stored in containers called variables, we can get to ways to modify variables or data. Like in math class, you have your 4 main operators, addition (+), subtraction (-), multiplication (\\*), or division (\\\\)"
   ]
  },
  {
   "cell_type": "code",
   "execution_count": 17,
   "metadata": {},
   "outputs": [],
   "source": [
    "add = x + x\n",
    "subtract = x - x\n",
    "multiply = x * x\n",
    "divide = x / x"
   ]
  },
  {
   "cell_type": "code",
   "execution_count": 18,
   "metadata": {},
   "outputs": [
    {
     "data": {
      "text/plain": [
       "4"
      ]
     },
     "execution_count": 18,
     "metadata": {},
     "output_type": "execute_result"
    }
   ],
   "source": [
    "add"
   ]
  },
  {
   "cell_type": "code",
   "execution_count": 19,
   "metadata": {},
   "outputs": [
    {
     "data": {
      "text/plain": [
       "0"
      ]
     },
     "execution_count": 19,
     "metadata": {},
     "output_type": "execute_result"
    }
   ],
   "source": [
    "subtract"
   ]
  },
  {
   "cell_type": "code",
   "execution_count": 20,
   "metadata": {},
   "outputs": [
    {
     "data": {
      "text/plain": [
       "4"
      ]
     },
     "execution_count": 20,
     "metadata": {},
     "output_type": "execute_result"
    }
   ],
   "source": [
    "multiply"
   ]
  },
  {
   "cell_type": "code",
   "execution_count": 21,
   "metadata": {},
   "outputs": [
    {
     "data": {
      "text/plain": [
       "1.0"
      ]
     },
     "execution_count": 21,
     "metadata": {},
     "output_type": "execute_result"
    }
   ],
   "source": [
    "divide"
   ]
  },
  {
   "cell_type": "markdown",
   "metadata": {},
   "source": [
    "In addition, more operators such as power to (\\*\\*), mod (\\%), and [more](https://www.w3schools.com/python/python_operators.asp) are supported by Python by default. "
   ]
  },
  {
   "cell_type": "markdown",
   "metadata": {},
   "source": [
    "# Assignment"
   ]
  },
  {
   "cell_type": "markdown",
   "metadata": {},
   "source": [
    "Now a skipped over something on code section 8. For example,\n",
    "```python \n",
    "add = x + x\n",
    "```\n",
    "\n",
    "I will go through the statement now. The left hand side is a variable that will hold the right hand side of the arguement (right of the equal sign ('=')). The right hand side will be calculated and after all calculations, it will be copied to to the variable, in this case add"
   ]
  },
  {
   "cell_type": "markdown",
   "metadata": {},
   "source": [
    "# Excerise"
   ]
  },
  {
   "cell_type": "markdown",
   "metadata": {},
   "source": [
    "Using the concepts of variables, assignment, numbers (cannot use 0), and arthimatic operators, print a 0. float. \n",
    "\n",
    "Good luck and the answer will be at the end of the next chapter"
   ]
  },
  {
   "cell_type": "code",
   "execution_count": null,
   "metadata": {},
   "outputs": [],
   "source": []
  }
 ],
 "metadata": {
  "kernelspec": {
   "display_name": "Python 3",
   "language": "python",
   "name": "python3"
  },
  "language_info": {
   "codemirror_mode": {
    "name": "ipython",
    "version": 3
   },
   "file_extension": ".py",
   "mimetype": "text/x-python",
   "name": "python",
   "nbconvert_exporter": "python",
   "pygments_lexer": "ipython3",
   "version": "3.8.2"
  }
 },
 "nbformat": 4,
 "nbformat_minor": 4
}
