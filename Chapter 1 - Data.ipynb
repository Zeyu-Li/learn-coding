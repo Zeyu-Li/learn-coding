{
 "cells": [
  {
   "cell_type": "markdown",
   "metadata": {},
   "source": [
    "# Chapter 1 - Data"
   ]
  },
  {
   "cell_type": "markdown",
   "metadata": {},
   "source": [
    "Data or information is anything that can be stored or committed to memory. Things such as:\n",
    " * dates\n",
    " * numbers\n",
    " * pictures\n",
    " * thoughts\n",
    " * words\n",
    " \n",
    "are all examples of data. In a programming language such as **[Python](https://www.python.org/)**, some of these things can be stored/saved to memory. "
   ]
  },
  {
   "cell_type": "markdown",
   "metadata": {},
   "source": [
    "## Variables"
   ]
  },
  {
   "cell_type": "markdown",
   "metadata": {},
   "source": [
    "To do this, we need to have something to save it to. These are called variables and they represent somewhere in memory that the information is sorted in. These variables can be any word, letter, or phrase but they have rules on what is possible (ie cannot start with a number, or there can be no spaces). \n",
    "\n",
    "Here are some examples:\n",
    " * foo\n",
    " * bar\n",
    " * some_number\n",
    " * number2\n",
    " \n",
    "Here I have followed the rules, but there are conventions that should be followed so other people (or maybe yourself in the future) can look back a deduce that the variables mean so to save headache and time. Some common rules that apply not only to Python programing, but to general programming languages are,\n",
    "\n",
    " * **descriptive variable names**\n",
    " * multiple word variables being linked with \\'\\_\\' instead of spaces (ie. some_number). In other languages such as JavaScript, you may find it the norm to use camelCasing, which you can learn more about [here](https://en.wikipedia.org/wiki/Camel_case)\n"
   ]
  },
  {
   "cell_type": "code",
   "execution_count": null,
   "metadata": {},
   "outputs": [],
   "source": [
    "x = 2   # integer\n",
    "y = .1  # float\n",
    "z = \"s\" # string\n",
    "foo = True  # boolean"
   ]
  },
  {
   "cell_type": "markdown",
   "metadata": {},
   "source": [
    "Once a variable is stored in memory, it can be called back to see what is stored in the variable. To do this, call the variable again."
   ]
  },
  {
   "cell_type": "code",
   "execution_count": null,
   "metadata": {
    "scrolled": false
   },
   "outputs": [],
   "source": [
    "x"
   ]
  },
  {
   "cell_type": "code",
   "execution_count": null,
   "metadata": {},
   "outputs": [],
   "source": [
    "y"
   ]
  },
  {
   "cell_type": "code",
   "execution_count": null,
   "metadata": {},
   "outputs": [],
   "source": [
    "z"
   ]
  },
  {
   "cell_type": "markdown",
   "metadata": {},
   "source": [
    "In addition, we can see the type of a variable by calling the type() function"
   ]
  },
  {
   "cell_type": "code",
   "execution_count": null,
   "metadata": {
    "scrolled": true
   },
   "outputs": [],
   "source": [
    "type(x)"
   ]
  },
  {
   "cell_type": "code",
   "execution_count": null,
   "metadata": {},
   "outputs": [],
   "source": [
    "type(y)"
   ]
  },
  {
   "cell_type": "code",
   "execution_count": null,
   "metadata": {},
   "outputs": [],
   "source": [
    "type(z)"
   ]
  },
  {
   "cell_type": "markdown",
   "metadata": {},
   "source": [
    "Sometimes, we may need to switch types (ie. string to int) and this is done by calling the typeName() function, ie.\n",
    "\n",
    "```python\n",
    "int()   # integer\n",
    "str()   # string\n",
    "float() # float (ie decimal)\n",
    "bool()  # boolean\n",
    "```\n",
    "\n",
    "However, Python is very kind so usually, type conversions are assumed and done by Python. Other times this may cause an error, so be careful"
   ]
  },
  {
   "cell_type": "markdown",
   "metadata": {},
   "source": [
    "In practice, unless you do this in a shell or console, you will need to print the output to the console from your script. In Python, it is done with a simple print() function (I will go in more detail about functions in a later chapter). "
   ]
  },
  {
   "cell_type": "code",
   "execution_count": null,
   "metadata": {},
   "outputs": [],
   "source": [
    "print(x)"
   ]
  },
  {
   "cell_type": "markdown",
   "metadata": {},
   "source": [
    "Now that we have established that data can be stored in containers called variables, we can get to ways to modify variables or data. Like in math class, you have your 4 main operators, addition (+), subtraction (-), multiplication (\\*), or division (\\\\)"
   ]
  },
  {
   "cell_type": "code",
   "execution_count": null,
   "metadata": {},
   "outputs": [],
   "source": [
    "# Code section 8\n",
    "add = x + x\n",
    "subtract = x - x\n",
    "multiply = x * x\n",
    "divide = x / x"
   ]
  },
  {
   "cell_type": "code",
   "execution_count": null,
   "metadata": {},
   "outputs": [],
   "source": [
    "add"
   ]
  },
  {
   "cell_type": "code",
   "execution_count": null,
   "metadata": {},
   "outputs": [],
   "source": [
    "subtract"
   ]
  },
  {
   "cell_type": "code",
   "execution_count": null,
   "metadata": {},
   "outputs": [],
   "source": [
    "multiply"
   ]
  },
  {
   "cell_type": "code",
   "execution_count": null,
   "metadata": {},
   "outputs": [],
   "source": [
    "divide"
   ]
  },
  {
   "cell_type": "markdown",
   "metadata": {},
   "source": [
    "In addition, more operators such as power to (\\*\\*), mod (\\%), and [more](https://www.w3schools.com/python/python_operators.asp) are supported by Python by default. "
   ]
  },
  {
   "cell_type": "markdown",
   "metadata": {},
   "source": [
    "## Assigning"
   ]
  },
  {
   "cell_type": "markdown",
   "metadata": {},
   "source": [
    "Now a skipped over something on code section 8. For example,\n",
    "```python \n",
    "add = x + x\n",
    "```\n",
    "\n",
    "I will go through the statement now. The left hand side is a variable that will hold the right hand side of the argument (right of the equal sign ('=')). The right hand side will be calculated and after all calculations, it will be copied to to the variable, in this case add"
   ]
  },
  {
   "cell_type": "markdown",
   "metadata": {},
   "source": [
    "## Extra"
   ]
  },
  {
   "cell_type": "markdown",
   "metadata": {},
   "source": [
    "As you may have noticed, I have put explanations and comments in my code. This is done by starting with a **#** known as a pond or commonly known as a hashtag. Anything afterwards does not effect the code and is only there to act as comments, therefore they are called comments. \n",
    "\n",
    "Comments are an important tool for coders as they help remind themselves and other potential coder on what is happening in the code below or in the same line. Making frequent comments are crucial in your programming career"
   ]
  },
  {
   "cell_type": "markdown",
   "metadata": {},
   "source": [
    "# Exercise 1"
   ]
  },
  {
   "cell_type": "markdown",
   "metadata": {},
   "source": [
    "Using the concepts of variables, assignment, comments, numbers (cannot use 0), and arithmetic operators, print a 0.0 float. \n",
    "\n",
    "Good luck and the answer will be at the end of the next chapter"
   ]
  },
  {
   "cell_type": "code",
   "execution_count": null,
   "metadata": {},
   "outputs": [],
   "source": [
    "# write your code here\n"
   ]
  }
 ],
 "metadata": {
  "kernelspec": {
   "display_name": "Python 3",
   "language": "python",
   "name": "python3"
  },
  "language_info": {
   "codemirror_mode": {
    "name": "ipython",
    "version": 3
   },
   "file_extension": ".py",
   "mimetype": "text/x-python",
   "name": "python",
   "nbconvert_exporter": "python",
   "pygments_lexer": "ipython3",
   "version": "3.8.2"
  },
  "latex_envs": {
   "LaTeX_envs_menu_present": true,
   "autoclose": true,
   "autocomplete": true,
   "bibliofile": "biblio.bib",
   "cite_by": "apalike",
   "current_citInitial": 1,
   "eqLabelWithNumbers": true,
   "eqNumInitial": 1,
   "hotkeys": {
    "equation": "Ctrl-E",
    "itemize": "Ctrl-I"
   },
   "labels_anchors": false,
   "latex_user_defs": false,
   "report_style_numbering": false,
   "user_envs_cfg": false
  }
 },
 "nbformat": 4,
 "nbformat_minor": 4
}
