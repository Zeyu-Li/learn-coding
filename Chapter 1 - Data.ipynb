{
 "cells": [
  {
   "cell_type": "markdown",
   "metadata": {},
   "source": [
    "# Chapter 1 - Data"
   ]
  },
  {
   "cell_type": "markdown",
   "metadata": {},
   "source": [
    "Data or information is anything that can be stored or committed to memory. Things such as;\n",
    "\n",
    " * numbers\n",
    " * words\n",
    " * dates\n",
    " * pictures\n",
    " * thoughts\n",
    " \n",
    "are all examples of data. In a **programming language** such as **[Python](https://www.python.org/)**, some of these things can be stored/saved to memory. "
   ]
  },
  {
   "cell_type": "markdown",
   "metadata": {},
   "source": [
    "## Variables"
   ]
  },
  {
   "cell_type": "markdown",
   "metadata": {},
   "source": [
    "To store data, we need to have something to save/store it to. These are called **variables** and they usually have a word associated with them called the variable name. However, variable names can be **any** word, letter, or phrase but there are some limitations on what is a possible name (ie. cannot start with a number, or there can be no spaces). \n",
    "\n",
    "Here are examples of valid variable names:"
   ]
  },
  {
   "cell_type": "markdown",
   "metadata": {},
   "source": [
    "```python\n",
    "foo\n",
    "bar\n",
    "some_number\n",
    "number2\n",
    "```"
   ]
  },
  {
   "cell_type": "markdown",
   "metadata": {},
   "source": [
    "Now while these variable names are valid, there are conventions that should be followed so other people or yourself in the future can look back a deduce that the variables mean so to save time and headache. Some common conventions that apply not only to Python programing, but to other programming languages include,\n",
    "\n",
    " * **descriptive variable names**\n",
    " * should not start with an underscore unless you want to specify a private variable, in which case two underscores should be used\n",
    " * multiple word variables being linked with \\'\\_\\' instead of spaces (ie. some_number). \\* Note in other languages such as JavaScript, you may find it the norm to use camelCasing, which you can learn more about [here](https://en.wikipedia.org/wiki/Camel_case)\n"
   ]
  },
  {
   "cell_type": "markdown",
   "metadata": {},
   "source": [
    "Now we will try to store data in the variables with the **\"=\"** (assignment) operator. To run the following by clicking in the **[&nbsp;&nbsp;&nbsp;]** on the left top part of the code section and it should turn into a play icon once hovering above it with your mouse."
   ]
  },
  {
   "cell_type": "code",
   "execution_count": null,
   "metadata": {},
   "outputs": [],
   "source": [
    "# integer\n",
    "some_integer = 2   \n",
    "\n",
    "# float\n",
    "some_float = .1\n",
    "\n",
    "# string\n",
    "some_string = \"happy\" \n",
    "\n",
    "# boolean\n",
    "best_bool = True  \n",
    "\n",
    "# ignore the following\n",
    "print(\"ran\")"
   ]
  },
  {
   "cell_type": "markdown",
   "metadata": {},
   "source": [
    "Once it has successfully run, it should print **ran** at the bottom of the code block.\n",
    "\n",
    "Now that data is stored in the variable, it can be called back to see what is stored in the variable. To do this, call the variable name."
   ]
  },
  {
   "cell_type": "code",
   "execution_count": null,
   "metadata": {
    "scrolled": false
   },
   "outputs": [],
   "source": [
    "some_integer"
   ]
  },
  {
   "cell_type": "code",
   "execution_count": null,
   "metadata": {},
   "outputs": [],
   "source": [
    "some_float"
   ]
  },
  {
   "cell_type": "code",
   "execution_count": null,
   "metadata": {},
   "outputs": [],
   "source": [
    "some_string"
   ]
  },
  {
   "cell_type": "markdown",
   "metadata": {},
   "source": [
    "In addition, we can see the type of a variable by calling the type( **\" VARIABLE NAME HERE \"** ) function (I will explain functions in a later chapter)\n",
    "\n",
    "Examples:"
   ]
  },
  {
   "cell_type": "code",
   "execution_count": null,
   "metadata": {
    "scrolled": true
   },
   "outputs": [],
   "source": [
    "type(some_integer)"
   ]
  },
  {
   "cell_type": "code",
   "execution_count": null,
   "metadata": {},
   "outputs": [],
   "source": [
    "type(some_float)"
   ]
  },
  {
   "cell_type": "code",
   "execution_count": null,
   "metadata": {},
   "outputs": [],
   "source": [
    "type(some_string)"
   ]
  },
  {
   "cell_type": "markdown",
   "metadata": {},
   "source": [
    "Sometimes, we may need to switch types (ie. string to int) and this is done by calling the **\" TYPE NAME \"** (**\" VARIABLE NAME \"**) function, ie."
   ]
  },
  {
   "cell_type": "code",
   "execution_count": null,
   "metadata": {},
   "outputs": [],
   "source": [
    "float(some_integer)"
   ]
  },
  {
   "cell_type": "markdown",
   "metadata": {},
   "source": [
    "However, Python is usually very kind so type conversions are done by Python automatically. Other times this may cause an error, so be careful"
   ]
  },
  {
   "cell_type": "markdown",
   "metadata": {},
   "source": [
    "## Printing & Operations"
   ]
  },
  {
   "cell_type": "markdown",
   "metadata": {},
   "source": [
    "In practice, unless you write all you code in a shell or console, you will need to print the output variable to the console from your script. In Python, it is done with a simple print() function (again, I will go in more detail about functions later). "
   ]
  },
  {
   "cell_type": "code",
   "execution_count": null,
   "metadata": {},
   "outputs": [],
   "source": [
    "print(some_integer)"
   ]
  },
  {
   "cell_type": "markdown",
   "metadata": {},
   "source": [
    "Now that we have established that data can be stored in containers called variables, we can get to ways to modify variables or data. Like in math class, you have your 4 main operators, addition (+), subtraction (-), multiplication (\\*), or division (\\\\). The following is a few examples on these operations;"
   ]
  },
  {
   "cell_type": "code",
   "execution_count": null,
   "metadata": {},
   "outputs": [],
   "source": [
    "add = some_integer + some_integer\n",
    "subtract = some_integer - some_float\n",
    "multiply = some_integer * some_integer\n",
    "divide = some_integer / some_integer\n",
    "\n",
    "print(add)\n",
    "print(subtract)\n",
    "print(multiply)\n",
    "print(divide)"
   ]
  },
  {
   "cell_type": "markdown",
   "metadata": {},
   "source": [
    "In addition, more operators such as power to (\\*\\*), mod (\\%), and [more](https://www.w3schools.com/python/python_operators.asp) are supported by Python by default. "
   ]
  },
  {
   "cell_type": "markdown",
   "metadata": {},
   "source": [
    "## Comments"
   ]
  },
  {
   "cell_type": "markdown",
   "metadata": {},
   "source": [
    "As you may have noticed, I have put explanations in my code. This is done by starting with a **#** known as a pond symbol or more commonly known as a hashtag. Anything afterwards (within the same line) does not effect the code and is only there to act as comments, therefore they are called comments. \n",
    "\n",
    "Comments are an important tool for coders as they help remind themselves and other potential coder on what is happening in the code below or within the same line. Making frequent comments are crucial in your programming career. The following is an example of a comment"
   ]
  },
  {
   "cell_type": "code",
   "execution_count": null,
   "metadata": {},
   "outputs": [],
   "source": [
    "# End of comments section"
   ]
  },
  {
   "cell_type": "markdown",
   "metadata": {},
   "source": [
    "## Extra"
   ]
  },
  {
   "cell_type": "markdown",
   "metadata": {},
   "source": [
    "When printing a lot of things like the previous code block, it is quite long in turns of line number to print all the variables, so Python has a solution. First I will teach you how some other programming languages do it, which is to concatenate the words like this:"
   ]
  },
  {
   "cell_type": "code",
   "execution_count": null,
   "metadata": {},
   "outputs": [],
   "source": [
    "print(str(add)+'\\n'+str(subtract)+'\\n'+str(multiply)+'\\n'+str(divide))"
   ]
  },
  {
   "cell_type": "markdown",
   "metadata": {},
   "source": [
    "The str() being necessary because string concatenation is the one we need and \"**\\n**\" meaning line break. \n",
    "\n",
    "Another way is to pass multiple arguments in the print function (will explore later) and it will be spaced out like this"
   ]
  },
  {
   "cell_type": "code",
   "execution_count": null,
   "metadata": {},
   "outputs": [],
   "source": [
    "print(add, '\\n', subtract, '\\n', multiply, '\\n', divide)"
   ]
  },
  {
   "cell_type": "markdown",
   "metadata": {},
   "source": [
    "Of course the easiest way to do this is with f strings. To do this, first start off the string with f to denote f string, then whenever you wrap a variable in curly brackets, the variable will be called by the variable name"
   ]
  },
  {
   "cell_type": "code",
   "execution_count": null,
   "metadata": {},
   "outputs": [],
   "source": [
    "print(f'{add} \\n{subtract} \\n{multiply} \\n{divide}')"
   ]
  },
  {
   "cell_type": "markdown",
   "metadata": {},
   "source": [
    "# Exercise 1"
   ]
  },
  {
   "cell_type": "markdown",
   "metadata": {},
   "source": [
    "Using the concepts of variables, assignment, comments, numbers (cannot use 0), and arithmetic operators, print a 0.0 float. \n",
    "\n",
    "Good luck and the answer will be at the end of the next chapter"
   ]
  },
  {
   "cell_type": "code",
   "execution_count": null,
   "metadata": {},
   "outputs": [],
   "source": [
    "# write your code below\n"
   ]
  }
 ],
 "metadata": {
  "kernelspec": {
   "display_name": "Python 3",
   "language": "python",
   "name": "python3"
  },
  "language_info": {
   "codemirror_mode": {
    "name": "ipython",
    "version": 3
   },
   "file_extension": ".py",
   "mimetype": "text/x-python",
   "name": "python",
   "nbconvert_exporter": "python",
   "pygments_lexer": "ipython3",
   "version": "3.8.2"
  },
  "latex_envs": {
   "LaTeX_envs_menu_present": true,
   "autoclose": true,
   "autocomplete": true,
   "bibliofile": "biblio.bib",
   "cite_by": "apalike",
   "current_citInitial": 1,
   "eqLabelWithNumbers": true,
   "eqNumInitial": 1,
   "hotkeys": {
    "equation": "Ctrl-E",
    "itemize": "Ctrl-I"
   },
   "labels_anchors": false,
   "latex_user_defs": false,
   "report_style_numbering": false,
   "user_envs_cfg": false
  }
 },
 "nbformat": 4,
 "nbformat_minor": 4
}
