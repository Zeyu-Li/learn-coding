{
 "cells": [
  {
   "cell_type": "markdown",
   "metadata": {},
   "source": [
    "# Chapter 8 - Programming Paradigms"
   ]
  },
  {
   "cell_type": "markdown",
   "metadata": {},
   "source": [
    "During your programming career, you will experience many programming languages. Most of these languages are separated into two categories, **object oriented programming** (OOP) and **functional programming**. Most languages that you will face will be object oriented because they mostly originate in this line of influence \n",
    "C -> C with Classes -> C++ -> Java -> JavaScript. Most of these languages were influence by each other and even now, if one language has a new concept, the other languages will jump on that bandwagon. \n",
    "\n",
    "With the example above, we can say that those are C-languages (also included is languages like C#, Swift, and Rust), mostly because there syntax is very similar to C/C++. This means if you learn one of these languages, it is almost **trivial** to jump to a new language. The most important thing is to get the core concepts correct. \n",
    "\n",
    "On the flip side to this is functional programming languages like Rust, Clojure, Elm, and to some extent Python. This is the less used side of programming languages, but it is very possible that in the next few years, theses languages or there concepts become important. The main difference between OOP languages is the fact that FP languages have functions that only map from one set to another set. In addition, variables are all immutable. "
   ]
  },
  {
   "cell_type": "markdown",
   "metadata": {},
   "source": [
    "While FP languages are still not the norm, you can borrow these ideas into OOP languages to make the code more clear"
   ]
  },
  {
   "cell_type": "markdown",
   "metadata": {},
   "source": [
    "## Extra"
   ]
  },
  {
   "cell_type": "markdown",
   "metadata": {},
   "source": [
    "Many programmers are hesitant to learn a different programming languages, but most languages are very similar, also concepts learned in the new language can often directly be applied to other languages by programming languages have gotten very homogeneous. Don't be afraid to learn more programming languages and there is no wrong programming language to learn (except not learning a language) because it won't take as long as you think it will, also, you will learn more about programming overall from learning new languages. "
   ]
  },
  {
   "cell_type": "markdown",
   "metadata": {},
   "source": [
    "# Exercise 8"
   ]
  },
  {
   "cell_type": "markdown",
   "metadata": {},
   "source": [
    "Explore another language and compare it with Python"
   ]
  },
  {
   "cell_type": "markdown",
   "metadata": {},
   "source": [
    "## Chapter 7 Answer:"
   ]
  },
  {
   "cell_type": "code",
   "execution_count": null,
   "metadata": {},
   "outputs": [],
   "source": [
    "class Cat:\n",
    "    \"\"\" a cat class \"\"\"\n",
    "    def __init__(self, name, weight, age, height):\n",
    "        \"\"\" intis cat with name, weight (kg), age, and height (in meters) \"\"\"\n",
    "        self.name = name\n",
    "        self.weight = weight\n",
    "        self.age = age\n",
    "        self.name = name\n",
    "        \n",
    "    def weight_change(self, new_weight):\n",
    "        \"\"\" changes weight of cat given new weight \"\"\"\n",
    "        self.weight = new_weight\n",
    "        \n",
    "    def weigh_cat(self):\n",
    "        \"\"\" weighs the cat and returns that number \"\"\"\n",
    "        return str(self.weight) + \"kg\"\n",
    "\n",
    "    def change_age(self, new_age):\n",
    "        \"\"\" changes age of cat given new age \"\"\"\n",
    "        self.age = new_age\n",
    "        \n",
    "    def peek_age(self):\n",
    "        \"\"\" find out the age of the cat by peeking at the collar \"\"\"\n",
    "        return self.age\n",
    "    \n",
    "    def eats_meal(self, meal_weight):\n",
    "        \"\"\" cat eat meal, so it gains weight \"\"\"\n",
    "        self.weight += meal_weight\n",
    "\n",
    "# inits cat\n",
    "my_cat = Cat(\"Tom\", 7, 5, 1.)\n",
    "\n",
    "# cat gains weight\n",
    "my_cat.weight_change(9)\n",
    "\n",
    "# prints cat's weight\n",
    "print(\"Cat now weighs: \")\n",
    "print(my_cat.weigh_cat())\n",
    "\n",
    "# feeds cat a 1/2 kg of food\n",
    "my_cat.eats_meal(.5)\n",
    "\n",
    "# prints cat's weight\n",
    "print(\"Cat now weighs: \")\n",
    "print(my_cat.weigh_cat())\n"
   ]
  }
 ],
 "metadata": {
  "kernelspec": {
   "display_name": "Python 3",
   "language": "python",
   "name": "python3"
  },
  "language_info": {
   "codemirror_mode": {
    "name": "ipython",
    "version": 3
   },
   "file_extension": ".py",
   "mimetype": "text/x-python",
   "name": "python",
   "nbconvert_exporter": "python",
   "pygments_lexer": "ipython3",
   "version": "3.8.2"
  },
  "latex_envs": {
   "LaTeX_envs_menu_present": true,
   "autoclose": true,
   "autocomplete": true,
   "bibliofile": "biblio.bib",
   "cite_by": "apalike",
   "current_citInitial": 1,
   "eqLabelWithNumbers": true,
   "eqNumInitial": 1,
   "hotkeys": {
    "equation": "Ctrl-E",
    "itemize": "Ctrl-I"
   },
   "labels_anchors": false,
   "latex_user_defs": false,
   "report_style_numbering": false,
   "user_envs_cfg": false
  }
 },
 "nbformat": 4,
 "nbformat_minor": 4
}
