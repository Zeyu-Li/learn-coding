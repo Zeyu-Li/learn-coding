{
 "cells": [
  {
   "cell_type": "markdown",
   "metadata": {},
   "source": [
    "# Chapter 6 - Errors"
   ]
  },
  {
   "cell_type": "markdown",
   "metadata": {},
   "source": [
    "Errors are something every programmer will experience, however it should not be something to be scared of. In your programming career, here are some common errors you will come across with;\n",
    "\n",
    "* SyntaxError - Something wrong with technical Python code (ie. a missing \":\" or missing brackets)\n",
    "* NameError - the variable name is not found. Perhaps the scope of the variable is wrong or most likely, a **mis-spelling** of a variable\n",
    "* IndentationError - the indentation is wrong \n",
    "* TypeError - the type of the variable passed in is not the right type (ie. asked for string but got int)\n",
    "* ValueError - The variable value is not right, but the type is fine \n",
    "* AssertionError - raised when an assert statement is false\n",
    "* ImportError - the import statement is not working for some reason (most of the time, it's because the module is missing)\n",
    "\n",
    "More errors can be found on this website: https://www.programiz.com/python-programming/exceptions\n",
    "\n",
    "In addition to Python's generated errors, you can raise errors yourself. This is done with the **raise** keyword, for example"
   ]
  },
  {
   "cell_type": "code",
   "execution_count": null,
   "metadata": {},
   "outputs": [],
   "source": [
    "raise ValueError"
   ]
  },
  {
   "cell_type": "markdown",
   "metadata": {},
   "source": [
    "Another way to achieve this is to use the assert statements. Asserts statements start with the **assert** keyword followed by a condition, then the error text. The error only occurs when the condition is **False**"
   ]
  },
  {
   "cell_type": "code",
   "execution_count": null,
   "metadata": {},
   "outputs": [],
   "source": [
    "string = \"cat\"\n",
    "\n",
    "assert string == \"dog\", \"not dog\""
   ]
  },
  {
   "cell_type": "markdown",
   "metadata": {},
   "source": [
    "## Catching Errors"
   ]
  },
  {
   "cell_type": "markdown",
   "metadata": {},
   "source": [
    "One thing that you have to know about errors is that once Python comes across one, it stops the program. This is not conductive to a good user experience, so many times, we will need to stop the errors from displaying so the user won't get frightened. Instead, we may want to show a message to should what went wrong and how to fix it. To do this in Python, we will explore the **try, exempt** (this will be similar to a **try-catch** block in other languages) block"
   ]
  },
  {
   "cell_type": "code",
   "execution_count": null,
   "metadata": {},
   "outputs": [],
   "source": [
    "# note this will not run if you ran the previous \n",
    "# code blocks so restart and run the code starting here\n",
    "try:\n",
    "    number = \"five\"\n",
    "    number = int(number)\n",
    "    print(\"number is a integer\")\n",
    "except:\n",
    "    print(\"not a number\")"
   ]
  },
  {
   "cell_type": "markdown",
   "metadata": {},
   "source": [
    "We can be more specific here and only except when it is a specific exception"
   ]
  },
  {
   "cell_type": "code",
   "execution_count": null,
   "metadata": {},
   "outputs": [],
   "source": [
    "try:\n",
    "    number = \"five\"\n",
    "    number = int(number)\n",
    "    print(\"number is a integer\")\n",
    "except ImportError:\n",
    "    print(\"improt is not right\")\n",
    "except ValueError:\n",
    "    print(\"not a number\")\n",
    "else:\n",
    "    print(\"not value error\")\n",
    "finally:\n",
    "    print(\"Done\")"
   ]
  },
  {
   "cell_type": "markdown",
   "metadata": {},
   "source": [
    "Also in the previous code block, there is the **else** and **finally** keyword. The else runs whenever all the excepts have not caught anything. The else is the same as a \n",
    "```python\n",
    "except Exception:\n",
    "    # something else\n",
    "```\n",
    "\n",
    "as Exception is a catchall for all exceptions (including assert exceptions)\n",
    "\n",
    "Finally runs whether the except to else catches anything or if it runs properly in the try block. "
   ]
  },
  {
   "cell_type": "markdown",
   "metadata": {},
   "source": [
    "## Extra"
   ]
  },
  {
   "cell_type": "markdown",
   "metadata": {},
   "source": [
    "Did you know you can make your own exceptions messages. If you want to be more specific, you can add text to the exception (in this case the Exception, but you can do any type of exception) for further debugging purposes"
   ]
  },
  {
   "cell_type": "code",
   "execution_count": null,
   "metadata": {},
   "outputs": [],
   "source": [
    "try:\n",
    "    raise Exception(\"Bad code\")\n",
    "except Exception as exc:\n",
    "    print(exc)"
   ]
  },
  {
   "cell_type": "markdown",
   "metadata": {},
   "source": [
    "# Exercise 6"
   ]
  },
  {
   "cell_type": "markdown",
   "metadata": {},
   "source": [
    "Ask the user for a float and test to see if the user has inputted a integer or a float and say what type it is with try-except method"
   ]
  },
  {
   "cell_type": "code",
   "execution_count": null,
   "metadata": {},
   "outputs": [],
   "source": [
    "# write your code below\n"
   ]
  },
  {
   "cell_type": "markdown",
   "metadata": {},
   "source": [
    "## Chapter 5 Answer:"
   ]
  },
  {
   "cell_type": "code",
   "execution_count": null,
   "metadata": {},
   "outputs": [],
   "source": [
    "# init\n",
    "words = []\n",
    "\n",
    "# user input\n",
    "user_input_1 = input(\"First Word: \")\n",
    "user_input_2 = input(\"Second Word: \")\n",
    "\n",
    "# appending to list\n",
    "words.append(user_input_1)\n",
    "words.append(user_input_2)\n",
    "# another way to do this is with the following\n",
    "# words += [user_input_1, user_input_2]\n",
    "\n",
    "# for each word in word list\n",
    "for word in words:\n",
    "    output = \"\"\n",
    "    # for each character in word, append to output\n",
    "    for char in word:\n",
    "        output = char + output\n",
    "    print(output)\n"
   ]
  }
 ],
 "metadata": {
  "kernelspec": {
   "display_name": "Python 3",
   "language": "python",
   "name": "python3"
  },
  "language_info": {
   "codemirror_mode": {
    "name": "ipython",
    "version": 3
   },
   "file_extension": ".py",
   "mimetype": "text/x-python",
   "name": "python",
   "nbconvert_exporter": "python",
   "pygments_lexer": "ipython3",
   "version": "3.8.2"
  },
  "latex_envs": {
   "LaTeX_envs_menu_present": true,
   "autoclose": true,
   "autocomplete": true,
   "bibliofile": "biblio.bib",
   "cite_by": "apalike",
   "current_citInitial": 1,
   "eqLabelWithNumbers": true,
   "eqNumInitial": 1,
   "hotkeys": {
    "equation": "Ctrl-E",
    "itemize": "Ctrl-I"
   },
   "labels_anchors": false,
   "latex_user_defs": false,
   "report_style_numbering": false,
   "user_envs_cfg": false
  }
 },
 "nbformat": 4,
 "nbformat_minor": 4
}
