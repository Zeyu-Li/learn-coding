{
 "cells": [
  {
   "cell_type": "markdown",
   "metadata": {},
   "source": [
    "# Chapter 2 - Functions"
   ]
  },
  {
   "cell_type": "markdown",
   "metadata": {},
   "source": [
    "Functions are the cornerstone of coding and are the best tool for programmers around the world. Functions in many programming languages are not like the ones found in math classes, where one set of inputs maps onto another set of outputs (see below)\n",
    "<img src=\"images/maps.png\" alt=\"map\" style=\"zoom:30%;\" />"
   ]
  },
  {
   "cell_type": "markdown",
   "metadata": {},
   "source": [
    "However, there are languages where that this is the case. These programming languages are called functional programming languages and I will go into more detail in later chapters. \n",
    "\n",
    "Most programming languages like C++, Java, JavaScript, and Python can have functions that return nothing, with the purpose of those functions to modify something else. In addition, some functions may not need input(s). Despite this freedom, it is often the case that a functions requires some number of input with some number of output because it is easier to read for the coder. For example, the following returns the double of the input number"
   ]
  },
  {
   "cell_type": "code",
   "execution_count": 3,
   "metadata": {},
   "outputs": [
    {
     "name": "stdout",
     "output_type": "stream",
     "text": [
      "234\n",
      "234  * 2 =  468\n"
     ]
    }
   ],
   "source": [
    "# function\n",
    "def double(number):\n",
    "    return number * 2\n",
    "# end of function\n",
    "\n",
    "# gets input\n",
    "number = int(input())\n",
    "\n",
    "# calls function\n",
    "doubled_number = double(number)\n",
    "\n",
    "# prints output\n",
    "print(number, \"* 2 =\", doubled_number)"
   ]
  },
  {
   "cell_type": "markdown",
   "metadata": {},
   "source": [
    "When running, input the number in the box and hit enter"
   ]
  },
  {
   "cell_type": "markdown",
   "metadata": {},
   "source": [
    "We can see that the return value is indeed double the inputed value, unless you inputed a word or character, in which case an error occurred. \n",
    "\n",
    "First we will go through the code to see how this is implemented. The function (wrapped in the function comments)"
   ]
  },
  {
   "cell_type": "code",
   "execution_count": null,
   "metadata": {},
   "outputs": [],
   "source": []
  },
  {
   "cell_type": "markdown",
   "metadata": {},
   "source": [
    "# Exercise 2"
   ]
  },
  {
   "cell_type": "markdown",
   "metadata": {},
   "source": [
    "Using"
   ]
  },
  {
   "cell_type": "code",
   "execution_count": null,
   "metadata": {},
   "outputs": [],
   "source": [
    "# write your code here\n"
   ]
  },
  {
   "cell_type": "markdown",
   "metadata": {},
   "source": [
    "## Chapter 1 Answers:"
   ]
  },
  {
   "cell_type": "markdown",
   "metadata": {},
   "source": [
    "Chapter 1's exercise asks for you to print a float zero using what you learnt in chapter 1. One of the easiest (but certainly not the only way) way we can do this if we have two of the same floats and subtracting them "
   ]
  },
  {
   "cell_type": "code",
   "execution_count": 4,
   "metadata": {},
   "outputs": [
    {
     "name": "stdout",
     "output_type": "stream",
     "text": [
      "0.0\n"
     ]
    }
   ],
   "source": [
    "# number variable\n",
    "number = 42.1 - 42.1\n",
    "\n",
    "# prints number\n",
    "print(number)"
   ]
  }
 ],
 "metadata": {
  "kernelspec": {
   "display_name": "Python 3",
   "language": "python",
   "name": "python3"
  },
  "language_info": {
   "codemirror_mode": {
    "name": "ipython",
    "version": 3
   },
   "file_extension": ".py",
   "mimetype": "text/x-python",
   "name": "python",
   "nbconvert_exporter": "python",
   "pygments_lexer": "ipython3",
   "version": "3.8.2"
  },
  "latex_envs": {
   "LaTeX_envs_menu_present": true,
   "autoclose": true,
   "autocomplete": true,
   "bibliofile": "biblio.bib",
   "cite_by": "apalike",
   "current_citInitial": 1,
   "eqLabelWithNumbers": true,
   "eqNumInitial": 1,
   "hotkeys": {
    "equation": "Ctrl-E",
    "itemize": "Ctrl-I"
   },
   "labels_anchors": false,
   "latex_user_defs": false,
   "report_style_numbering": false,
   "user_envs_cfg": false
  }
 },
 "nbformat": 4,
 "nbformat_minor": 4
}
