{
 "cells": [
  {
   "cell_type": "markdown",
   "metadata": {},
   "source": [
    "# Chapter 2 - Functions"
   ]
  },
  {
   "cell_type": "markdown",
   "metadata": {},
   "source": [
    "Functions are the cornerstone of coding and are one of the best tools to **encapsulate** code. Functions in many programming languages are not like the ones found in math classes, where one set of inputs maps onto another set of outputs (see below)\n",
    "<img src=\"images/maps.png\" alt=\"map\" style=\"zoom:30%;\" />"
   ]
  },
  {
   "cell_type": "markdown",
   "metadata": {},
   "source": [
    "However, there are languages where that this is the case. These programming languages are called **functional programming** languages and I will go into more detail in later chapters. \n",
    "\n",
    "Most programming languages like C++, Java, JavaScript, and Python **may** have functions that return nothing or requires no input(s). Despite this freedom, it is often the case that a functions requires some number of input with some number of output because it is easier to read for the coder. For example, the following returns the double of the inputted number"
   ]
  },
  {
   "cell_type": "code",
   "execution_count": 2,
   "metadata": {},
   "outputs": [
    {
     "name": "stdout",
     "output_type": "stream",
     "text": [
      "342\n",
      "342 * 2 = 684\n"
     ]
    }
   ],
   "source": [
    "# function\n",
    "def double(number):\n",
    "    return number * 2\n",
    "# end of function\n",
    "\n",
    "# gets input\n",
    "number = int(input())\n",
    "\n",
    "# calls function\n",
    "doubled_number = double(number)\n",
    "\n",
    "# prints output\n",
    "print(number, \"* 2 =\", doubled_number)\n",
    "\n",
    "# the following also print also works, but requires f strings\n",
    "# print(f'{number} * 2 = {doubled_number}')"
   ]
  },
  {
   "cell_type": "markdown",
   "metadata": {},
   "source": [
    "When running, input the number in the box and hit enter"
   ]
  },
  {
   "cell_type": "markdown",
   "metadata": {},
   "source": [
    "We can see that the return value is indeed double the inputed value, unless you inputed a word or character, in which case an error occurred. \n",
    "\n",
    "First we will go through the code to see how this is implemented line by line. \n",
    "\n",
    "1. the function (wrapped in the function comments) starts off with the **def** keyword. This keyword identifies the following as a function. \n",
    "2. the next part is the name of the function (in this case **double**) and the variables it is taking in (in this case **number**) enclosed in brackets. \\* Note the variable taken in does not have to match the variable name when it is later called. \n",
    "3. after, we see \" **:** \" (colon) to indicate that the function has started\n",
    "\n",
    "\n",
    "4. on to the next line, we see it is indented in 4 spaces. This is very important and Python will look for this indent because no indent indicates that the code block (in this case a function), has ended. \n",
    "5. something that is optional is a return statement. Return is a keyword that specifies the following will be given to whatever called the function\n",
    "\n",
    "6. the next line, number = int(input()) assigns the variable number to the inputted number. The int() function turns the input to a integer because input() function returns a string.  \n",
    "\n",
    "7. It is important that the functional call is ahead of the function itself because Python reads code top to down, right to left. This function calls the number function with the number variable as it's argument (\\* note the argument being fed in does not need to be a variable and can be anything, ie. number, string, etc)\n",
    "\n",
    "8. the last line is a prints out the equation and the answer"
   ]
  },
  {
   "cell_type": "markdown",
   "metadata": {},
   "source": [
    "Some other things of note include having a default value for a variable, so if nothing is supplied as a argument"
   ]
  },
  {
   "cell_type": "code",
   "execution_count": 7,
   "metadata": {},
   "outputs": [
    {
     "name": "stdout",
     "output_type": "stream",
     "text": [
      "Radius: 3\n",
      "28.26\n"
     ]
    }
   ],
   "source": [
    "def circle_area(radius, pi = 3.14):\n",
    "    area = radius ** 2 * pi\n",
    "    return area, pi\n",
    "\n",
    "area, pi = circle_area(float(input('Radius: ')))\n",
    "\n",
    "print(f'area')"
   ]
  },
  {
   "cell_type": "markdown",
   "metadata": {},
   "source": [
    "Now note that functions may return multiple things"
   ]
  },
  {
   "cell_type": "markdown",
   "metadata": {},
   "source": [
    "## Extra"
   ]
  },
  {
   "cell_type": "markdown",
   "metadata": {},
   "source": [
    "In the circle area, you may encounter an error because of something called floating point error "
   ]
  },
  {
   "cell_type": "markdown",
   "metadata": {},
   "source": [
    "# Exercise 2"
   ]
  },
  {
   "cell_type": "markdown",
   "metadata": {},
   "source": [
    "Using what you have learnt in this chapter, construct a function that"
   ]
  },
  {
   "cell_type": "code",
   "execution_count": null,
   "metadata": {},
   "outputs": [],
   "source": [
    "# write your code here\n"
   ]
  },
  {
   "cell_type": "markdown",
   "metadata": {},
   "source": [
    "## Chapter 1 Answers:"
   ]
  },
  {
   "cell_type": "markdown",
   "metadata": {},
   "source": [
    "Chapter 1's exercise asks for you to print a float zero using what you learnt in chapter 1. One of the easiest (but certainly not the only way) way we can do this if we have two of the same floats and subtracting them "
   ]
  },
  {
   "cell_type": "code",
   "execution_count": 4,
   "metadata": {},
   "outputs": [
    {
     "name": "stdout",
     "output_type": "stream",
     "text": [
      "0.0\n"
     ]
    }
   ],
   "source": [
    "# number variable\n",
    "number = 42.1 - 42.1\n",
    "\n",
    "# prints number\n",
    "print(number)"
   ]
  }
 ],
 "metadata": {
  "kernelspec": {
   "display_name": "Python 3",
   "language": "python",
   "name": "python3"
  },
  "language_info": {
   "codemirror_mode": {
    "name": "ipython",
    "version": 3
   },
   "file_extension": ".py",
   "mimetype": "text/x-python",
   "name": "python",
   "nbconvert_exporter": "python",
   "pygments_lexer": "ipython3",
   "version": "3.8.2"
  },
  "latex_envs": {
   "LaTeX_envs_menu_present": true,
   "autoclose": true,
   "autocomplete": true,
   "bibliofile": "biblio.bib",
   "cite_by": "apalike",
   "current_citInitial": 1,
   "eqLabelWithNumbers": true,
   "eqNumInitial": 1,
   "hotkeys": {
    "equation": "Ctrl-E",
    "itemize": "Ctrl-I"
   },
   "labels_anchors": false,
   "latex_user_defs": false,
   "report_style_numbering": false,
   "user_envs_cfg": false
  }
 },
 "nbformat": 4,
 "nbformat_minor": 4
}
