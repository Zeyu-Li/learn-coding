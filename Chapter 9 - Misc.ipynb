{
 "cells": [
  {
   "cell_type": "markdown",
   "metadata": {},
   "source": [
    "# Chapter 9 - Misc"
   ]
  },
  {
   "cell_type": "markdown",
   "metadata": {},
   "source": [
    "## Imports"
   ]
  },
  {
   "cell_type": "markdown",
   "metadata": {},
   "source": [
    "We have nearly reached the end of this notebook, therefore I will so through some of the things that are of importance but could not have been fit into any of the previous chapters. "
   ]
  },
  {
   "cell_type": "markdown",
   "metadata": {},
   "source": [
    "The first thing that is mega important if you will use **external** libraries (called **modules** in Python). To use modules, first you must locate the module page and copy the pip install to Powershell (this should be like pip install somemodule). If you are using **default modules** already include in Python (see list [here](https://docs.python.org/3/py-modindex.html)), just do the next step. After installing, in the project file, you want to write"
   ]
  },
  {
   "cell_type": "code",
   "execution_count": 4,
   "metadata": {},
   "outputs": [],
   "source": [
    "# imports random module, which ships with Python by default\n",
    "import random"
   ]
  },
  {
   "cell_type": "markdown",
   "metadata": {},
   "source": [
    "You can also use the **as** keyword to set the first variable as the second variable name. For example "
   ]
  },
  {
   "cell_type": "code",
   "execution_count": 5,
   "metadata": {},
   "outputs": [],
   "source": [
    "import random as rand\n",
    "# now instead of using random, you can use rand"
   ]
  },
  {
   "cell_type": "markdown",
   "metadata": {},
   "source": [
    "Sometimes, you will need to isolate some Python modules from others to separate different workspaces. You can do this by setting up a **Virtual Env** (see chapter 10)"
   ]
  },
  {
   "cell_type": "markdown",
   "metadata": {},
   "source": [
    "## Open Files"
   ]
  },
  {
   "cell_type": "markdown",
   "metadata": {},
   "source": [
    "The **as** keyword is also important for opening files (json, txt, etc)"
   ]
  },
  {
   "cell_type": "code",
   "execution_count": 6,
   "metadata": {},
   "outputs": [
    {
     "name": "stdout",
     "output_type": "stream",
     "text": [
      "['Copyright (c) 2019 Andrew Li\\n', '\\n', 'Permission is hereby granted, free of charge, to any person obtaining a copy\\n', 'of this software and associated documentation files (the \"Software\"), to deal\\n', 'in the Software without restriction, including without limitation the rights\\n', 'to use, copy, modify, merge, publish, distribute, sublicense, and/or sell\\n', 'copies of the Software, and to permit persons to whom the Software is\\n', 'furnished to do so, subject to the following conditions:\\n', '\\n', 'The above copyright notice and this permission notice shall be included in all\\n', 'copies or substantial portions of the Software.\\n', '\\n', 'THE SOFTWARE IS PROVIDED \"AS IS\", WITHOUT WARRANTY OF ANY KIND, EXPRESS OR\\n', 'IMPLIED, INCLUDING BUT NOT LIMITED TO THE WARRANTIES OF MERCHANTABILITY,\\n', 'FITNESS FOR A PARTICULAR PURPOSE AND NONINFRINGEMENT. IN NO EVENT SHALL THE\\n', 'AUTHORS OR COPYRIGHT HOLDERS BE LIABLE FOR ANY CLAIM, DAMAGES OR OTHER\\n', 'LIABILITY, WHETHER IN AN ACTION OF CONTRACT, TORT OR OTHERWISE, ARISING FROM,\\n', 'OUT OF OR IN CONNECTION WITH THE SOFTWARE OR THE USE OR OTHER DEALINGS IN THE\\n', 'SOFTWARE.']\n"
     ]
    }
   ],
   "source": [
    "with open(\"LICENSE.txt\", \"r\") as fp:\n",
    "    print(fp.readlines())"
   ]
  },
  {
   "cell_type": "markdown",
   "metadata": {},
   "source": [
    "In the code above, you can see the with keyword being used. This tells Python that you are opening a file. This way, you don't need to close the file after you are done with it (the file closes as soon as you exit the with block). The open function takes 2 arguments, the first being the relative path of the file (unless you are using a Windows program, in which case, you have to switch over to running with Powershell/CMD) and the second being the mode you are opening the file in. There are basically 3 modes, read, write, and append. You can mix and match some of them, ie. read and write. For more info, click [here](https://www.guru99.com/reading-and-writing-files-in-python.html). "
   ]
  },
  {
   "cell_type": "markdown",
   "metadata": {},
   "source": [
    "## Starting Out"
   ]
  },
  {
   "cell_type": "markdown",
   "metadata": {},
   "source": [
    "In most Python files, you want to put some information regarding title, author, description, etc. This can be done at the top of the document using **#** or **doc-strings**. \n",
    "\n",
    "After you want a main function so you can exit the program whenever with a return. To run the main function, you want a \n",
    "```python \n",
    "if __name__ == \"__main__\":\n",
    "    main()\n",
    "```\n",
    "\n",
    "check. At the start, Python will make __name__ the string \"__main__\", so we use this property to activate the entire program. The following is my Python boilerplate code that I use to start off any project in Python. Feel free to use it. "
   ]
  },
  {
   "cell_type": "code",
   "execution_count": 8,
   "metadata": {},
   "outputs": [],
   "source": [
    "\"\"\"\"\n",
    "Boilerplate project by Andrew Li\n",
    "Description: \n",
    "\"\"\"\n",
    "# imports\n",
    "\n",
    "\n",
    "def main():\n",
    "    # main function\n",
    "    pass\n",
    "\n",
    "# system calls main\n",
    "if __name__ == \"__main__\":\n",
    "    main()\n"
   ]
  },
  {
   "cell_type": "markdown",
   "metadata": {},
   "source": [
    "\\* note pass basically a placeholder that does nothing"
   ]
  },
  {
   "cell_type": "markdown",
   "metadata": {},
   "source": [
    "## Code Editors"
   ]
  },
  {
   "cell_type": "markdown",
   "metadata": {},
   "source": [
    "You have done all your exercise in this notebook, but you don't want to write the majority of your code with Jupyter Notebooks. There are two options to writing code in a designated program. \n",
    "\n",
    "1. Text editors - something like notepad is a text editor and can work as a programming tool, but it is not very powerful\n",
    "2. Integrated Development Environment (IDE) - a professional tool to develop, debug, and complete your code \n",
    "\n",
    "Text editors - Sublime, Notepad++, Vim (Linux or Mac)\n",
    "IDE - VS Code, Atom, PyCharm \n",
    "\\* note all these programs are free\n",
    "\n",
    "If you want to install any of these programs, go to chapter 10\n",
    "\n",
    "I would highly recommend VS Code because it supports most languages with the use of extensions, it's lightweight, free, supported by Mircosoft, and has a great community."
   ]
  },
  {
   "cell_type": "markdown",
   "metadata": {},
   "source": [
    "## Next Steps"
   ]
  },
  {
   "cell_type": "markdown",
   "metadata": {},
   "source": [
    "This notebook will only be a simple tutorial to coding. There is so much more to learn and to further your skills, I recommend doing projects after this. I believe projects involving Python would be a great place to start. This might look like making a Flask or Django project or some automation scripts. This will expose you to modules and give you a great resume item"
   ]
  },
  {
   "cell_type": "markdown",
   "metadata": {},
   "source": [
    "## Thanks"
   ]
  },
  {
   "cell_type": "markdown",
   "metadata": {},
   "source": [
    "Thanks for viewing this learning programming tutorial. If you enjoyed this, leave a star in the [GitHub project](https://github.com/Zeyu-Li/learn-coding). Of course, I must warn you that I have only scratched the surface of programming and there is so much more to learn. Just know to take things slow if you have problems and visit some resources in the chapter 10 section. \n",
    "\n",
    "<br>\n",
    "Have fun and start coding\n",
    "\n",
    "\\- Andrew"
   ]
  },
  {
   "cell_type": "markdown",
   "metadata": {},
   "source": [
    "# Exercise 9"
   ]
  },
  {
   "cell_type": "markdown",
   "metadata": {},
   "source": [
    "Think of another project to do after you read chapter 10 for resources"
   ]
  }
 ],
 "metadata": {
  "kernelspec": {
   "display_name": "Python 3",
   "language": "python",
   "name": "python3"
  },
  "language_info": {
   "codemirror_mode": {
    "name": "ipython",
    "version": 3
   },
   "file_extension": ".py",
   "mimetype": "text/x-python",
   "name": "python",
   "nbconvert_exporter": "python",
   "pygments_lexer": "ipython3",
   "version": "3.8.2"
  },
  "latex_envs": {
   "LaTeX_envs_menu_present": true,
   "autoclose": true,
   "autocomplete": true,
   "bibliofile": "biblio.bib",
   "cite_by": "apalike",
   "current_citInitial": 1,
   "eqLabelWithNumbers": true,
   "eqNumInitial": 1,
   "hotkeys": {
    "equation": "Ctrl-E",
    "itemize": "Ctrl-I"
   },
   "labels_anchors": false,
   "latex_user_defs": false,
   "report_style_numbering": false,
   "user_envs_cfg": false
  }
 },
 "nbformat": 4,
 "nbformat_minor": 4
}
